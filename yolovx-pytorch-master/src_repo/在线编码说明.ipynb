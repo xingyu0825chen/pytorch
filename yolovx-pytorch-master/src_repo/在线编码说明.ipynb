{
 "cells": [
  {
   "cell_type": "markdown",
   "id": "c07c9430",
   "metadata": {},
   "source": [
    "#### <font color=#008000>开发前说明</font>\n",
    "##### 首次进入平台，您可以查看[在线操作说明文档](https://www.cvmart.net/document)，了解平台的各种功能模块细节。\n",
    "\n",
    "#### <font color=#008000>数据集</font>\n",
    "##### 在当前的编码环境中，您无法直接接触完整的训练、测试数据集；但您可以在路径`/home/data/version_number/`下查看样例数据集，其中`version_number`表示版本号，其数值视情况而定。\n",
    "\n",
    "##### 您可以依据该样例数据集，来写训练代码，并且在编码环境对代码进行调试。<font color=red>要注意的是，编码环境中也有少量GPU资源，但只用于调试程序，您所有在编码环境中启动的占用GPU的程序超过30分钟（min）都会被自动kill。</font>\n",
    "\n",
    "#### <font color=#008000>环境隔离</font>\n",
    "##### 基于数据保密性，平台将编码环境、训练环境和测试环境隔离，而训练环境和测试环境均会完全复制您当前的编码环境。\n",
    "##### 当您正式发起训练任务的时候，平台会将您的编码环境复制一份，并使用完整的训练数据集替换样例数据集，其文件结构完全一致，只是数量不同。由此，您的训练代码就可以基于完整的训练数据集进行模型训练。\n",
    "\n",
    "#### <font color=#008000>环境配置</font>\n",
    "##### 在当前编码环境中，相当于一个联公网的linux虚拟机，您可以将其配置为您习惯使用的开发环境。\n",
    "\n",
    "#### <font color=#008000>代码编写</font>\n",
    "##### 由于平台对您的代码有备份机制，因此<font color=red>请务必将训练代码写在`/project/train/src_repo/`</font>下，<font color=red>务必将测试代码写在`/project/ev_sdk/`</font>下，该路径下自动连接了git仓库，您的代码会被自动提交到git仓库中。<font color=red>注意，请勿在以上两个目录下存放大型文件。如果您使用git clone，要注意的是平台会自动过滤.git文件，以此来保持单个git并只链接到平台的gitlab。</font>\n",
    "\n",
    "##### 请将您的<font color=red>模型保存路径设置为`/project/train/models/your_file`，其中`your_file`表示您需要创建一个子目录用于表示该次训练，该目录中的文件结构随意；日志文件保存路径设置为 `/project/train/log/log.txt`</font>，这样平台在执行正式的训练任务时，才会保存您训练过程中生成的文件。\n",
    "\n",
    "##### 您需要按照我们要求的SDK方式封装您自己的测试代码，编写规则请参考`/project/ev_sdk/README.md`。\n",
    "\n",
    "#### <font color=#008000>发起训练</font>\n",
    "##### 编码环境中，您可以直接在命令行里，输入执行命令，运行您的程序；而如果您需要发起正式的训练任务，那么需要在[开发环境](https://www.cvmart.net/instance)中，点击`发起训练`，进入“训练任务”页面，点击“新建训练任务按钮”，并且输入执行命令，提交即可。\n",
    "\n",
    "##### 要注意的是，<font color=red>执行命令要使用绝对路径`/project/train/src_repo/…`</font>\n",
    "\n",
    "#### <font color=#008000>发起自动测试</font>\n",
    "##### 同样在编码环境中，您可以利用样例集数据，调试好您的自动测试代码；在[开发环境](https://www.cvmart.net/instance)中，点击`自动测试`，进入测试任务页面，并点击“发起自动测试”按钮（不同比赛测试类型可能不同），选择您训练任务留下的模型，平台会将模型复制到正式的测试环境中，并且启动您的测试代码，因此，您的代码即可对模型进行读取，并且发起测试。\n",
    "\n",
    "#### <font color=#008000>使用自己的文件</font>\n",
    "##### 如果您需要上传自己的文件，比如自己的代码/预训练模型等等，可以通过：\n",
    "\n",
    "（1）在命令行中使用`wget`/`git`类命令，将网上的文件下载到指定目录；\n",
    "\n",
    "（2）对于您的本地文件，您可以进入[个人中心-文件管理](https://www.cvmart.net/profile/file)，上传您的文件，平台会给出对应的地址，然后您可以使用wget命令，将其下载到制定目录。"
   ]
  }
 ],
 "metadata": {
  "kernelspec": {
   "display_name": "Python 3",
   "language": "python",
   "name": "python3"
  },
  "language_info": {
   "codemirror_mode": {
    "name": "ipython",
    "version": 3
   },
   "file_extension": ".py",
   "mimetype": "text/x-python",
   "name": "python",
   "nbconvert_exporter": "python",
   "pygments_lexer": "ipython3",
   "version": "3.6.9"
  }
 },
 "nbformat": 4,
 "nbformat_minor": 5
}
